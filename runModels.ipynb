{
 "cells": [
  {
   "cell_type": "markdown",
   "metadata": {},
   "source": [
    "### Function definitions"
   ]
  },
  {
   "cell_type": "code",
   "execution_count": 2,
   "metadata": {},
   "outputs": [],
   "source": [
    "import subprocess\n",
    "import os\n",
    "import pandas as pd\n",
    "import time\n",
    "# Base name for dSave values\n",
    "dsave_base = \"MODEL\"\n",
    "\n",
    "#define function to train a model \"num_iterations\" times with access to \"cutDatabase\" (as a percentage point decimal) of the whole database.\n",
    "\n",
    "def trainModels(num_iterations,cutDatabase,name):\n",
    "    cutDB=str(int(cutDatabase*100))\n",
    "    start_time = time.time()\n",
    "\n",
    "    for i in range(1, num_iterations + 1):\n",
    "        # Create a unique value for dSave\n",
    "        dsave_value = f\"{name}/{dsave_base}-{name}-NUMBER-{i}\"\n",
    "\n",
    "        # Pass dSave value as an environment variable and run the script\n",
    "        env = {**os.environ, \"DSAVE\": dsave_value,\"DBCUT\": cutDB}\n",
    "        \n",
    "        print(f\"Running iteration {i} with dSave={dsave_value}\")\n",
    "        \n",
    "        try:\n",
    "            # Run CNNNEW.py script with the updated environment\n",
    "            subprocess.run([\"python\", \"trainModels.py\"], env=env, check=True)\n",
    "        except subprocess.CalledProcessError as e:\n",
    "            print(f\"Error occurred during iteration {i}: {e}\")\n",
    "            break\n",
    "        secondsSinceLastIteration = (time.time()-start_time)/i*(num_iterations+1-i)\n",
    "        print(f\"Estimated time remaining is {int(secondsSinceLastIteration//60)} minutes and {int(secondsSinceLastIteration%60)} seconds.\")\n",
    "\n",
    "\n",
    "\n",
    "#test already trained models. name parameter must match with the one used in runModels.ipynb when the models were trained.\n",
    "\n",
    "def testModels(name):\n",
    "    # Create a unique value for dSave\n",
    "    dsave_value = f\"{name}/{dsave_base}-{name}-NUMBER-\"\n",
    "\n",
    "    # Pass dSave value as an environment variable and run the script\n",
    "    env = {**os.environ, \"DSAVE\": dsave_value,}\n",
    "\n",
    "    \n",
    "    try:\n",
    "        # Run CNNNEW.py script with the updated environment\n",
    "        subprocess.run([\"python\", \"testModels.py\"], env=env, check=True)\n",
    "    except subprocess.CalledProcessError as e:\n",
    "        print(f\"Error occurred: {e}\")\n"
   ]
  },
  {
   "cell_type": "markdown",
   "metadata": {},
   "source": [
    "### training 10 initial models for sample size calculations: The 25% group"
   ]
  },
  {
   "cell_type": "code",
   "execution_count": 5,
   "metadata": {},
   "outputs": [
    {
     "name": "stdout",
     "output_type": "stream",
     "text": [
      "Running iteration 1 with dSave=qstd10/MODEL-qstd10-NUMBER-1\n",
      "Running iteration 2 with dSave=qstd10/MODEL-qstd10-NUMBER-2\n",
      "Running iteration 3 with dSave=qstd10/MODEL-qstd10-NUMBER-3\n",
      "Running iteration 4 with dSave=qstd10/MODEL-qstd10-NUMBER-4\n",
      "Running iteration 5 with dSave=qstd10/MODEL-qstd10-NUMBER-5\n",
      "Running iteration 6 with dSave=qstd10/MODEL-qstd10-NUMBER-6\n",
      "Running iteration 7 with dSave=qstd10/MODEL-qstd10-NUMBER-7\n",
      "Running iteration 8 with dSave=qstd10/MODEL-qstd10-NUMBER-8\n",
      "Running iteration 9 with dSave=qstd10/MODEL-qstd10-NUMBER-9\n",
      "Running iteration 10 with dSave=qstd10/MODEL-qstd10-NUMBER-10\n"
     ]
    }
   ],
   "source": [
    "#Initial 10 models run for finding the standard deviation for 25% data group\n",
    "\n",
    "# trainModels(10,0.25,'qstd10')"
   ]
  },
  {
   "cell_type": "code",
   "execution_count": 6,
   "metadata": {},
   "outputs": [],
   "source": [
    "#create the test data for the batch of models just trained\n",
    "# testModels('qstd10')"
   ]
  },
  {
   "cell_type": "markdown",
   "metadata": {},
   "source": [
    "### training 10 initial models for sample size calculations: The 50% group"
   ]
  },
  {
   "cell_type": "code",
   "execution_count": null,
   "metadata": {},
   "outputs": [
    {
     "name": "stdout",
     "output_type": "stream",
     "text": [
      "Running iteration 6 with dSave=hstd10/MODEL-hstd10-NUMBER-6\n",
      "Running iteration 7 with dSave=hstd10/MODEL-hstd10-NUMBER-7\n",
      "Running iteration 8 with dSave=hstd10/MODEL-hstd10-NUMBER-8\n",
      "Running iteration 9 with dSave=hstd10/MODEL-hstd10-NUMBER-9\n",
      "Running iteration 10 with dSave=hstd10/MODEL-hstd10-NUMBER-10\n"
     ]
    }
   ],
   "source": [
    "#hstd10 = half data - standard deviation - 10 models\n",
    "\n",
    "# trainModels(10,0.5,'hstd10')"
   ]
  },
  {
   "cell_type": "code",
   "execution_count": 27,
   "metadata": {},
   "outputs": [],
   "source": [
    "# testModels('hstd10')"
   ]
  },
  {
   "cell_type": "markdown",
   "metadata": {},
   "source": [
    "### training 10 initial models for sample size calculations: The 100% group"
   ]
  },
  {
   "cell_type": "code",
   "execution_count": null,
   "metadata": {},
   "outputs": [
    {
     "name": "stdout",
     "output_type": "stream",
     "text": [
      "Running iteration 1 with dSave=astd10/MODEL-astd10-NUMBER-1\n",
      "Running iteration 2 with dSave=astd10/MODEL-astd10-NUMBER-2\n",
      "Running iteration 3 with dSave=astd10/MODEL-astd10-NUMBER-3\n",
      "Running iteration 4 with dSave=astd10/MODEL-astd10-NUMBER-4\n",
      "Running iteration 5 with dSave=astd10/MODEL-astd10-NUMBER-5\n"
     ]
    }
   ],
   "source": [
    "# trainModels(10,1,'astd10')"
   ]
  },
  {
   "cell_type": "code",
   "execution_count": 36,
   "metadata": {},
   "outputs": [],
   "source": [
    "# testModels('astd10')"
   ]
  },
  {
   "cell_type": "markdown",
   "metadata": {},
   "source": [
    "### Training and testing the 25% group"
   ]
  },
  {
   "cell_type": "code",
   "execution_count": 3,
   "metadata": {},
   "outputs": [
    {
     "name": "stdout",
     "output_type": "stream",
     "text": [
      "Running iteration 14 with dSave=quartGroup/MODEL-quartGroup-NUMBER-14\n",
      "Estimated time remaining is 4 minutes and 17 seconds.\n",
      "Running iteration 15 with dSave=quartGroup/MODEL-quartGroup-NUMBER-15\n",
      "Estimated time remaining is 7 minutes and 30 seconds.\n",
      "Running iteration 16 with dSave=quartGroup/MODEL-quartGroup-NUMBER-16\n",
      "Estimated time remaining is 10 minutes and 8 seconds.\n",
      "Running iteration 17 with dSave=quartGroup/MODEL-quartGroup-NUMBER-17\n",
      "Estimated time remaining is 12 minutes and 25 seconds.\n",
      "Running iteration 18 with dSave=quartGroup/MODEL-quartGroup-NUMBER-18\n",
      "Estimated time remaining is 14 minutes and 15 seconds.\n",
      "Running iteration 19 with dSave=quartGroup/MODEL-quartGroup-NUMBER-19\n",
      "Estimated time remaining is 15 minutes and 46 seconds.\n",
      "Running iteration 20 with dSave=quartGroup/MODEL-quartGroup-NUMBER-20\n",
      "Estimated time remaining is 17 minutes and 5 seconds.\n",
      "Running iteration 21 with dSave=quartGroup/MODEL-quartGroup-NUMBER-21\n",
      "Estimated time remaining is 18 minutes and 14 seconds.\n",
      "Running iteration 22 with dSave=quartGroup/MODEL-quartGroup-NUMBER-22\n",
      "Estimated time remaining is 19 minutes and 14 seconds.\n",
      "Running iteration 23 with dSave=quartGroup/MODEL-quartGroup-NUMBER-23\n",
      "Estimated time remaining is 19 minutes and 57 seconds.\n",
      "Running iteration 24 with dSave=quartGroup/MODEL-quartGroup-NUMBER-24\n",
      "Estimated time remaining is 20 minutes and 34 seconds.\n",
      "Running iteration 25 with dSave=quartGroup/MODEL-quartGroup-NUMBER-25\n",
      "Estimated time remaining is 21 minutes and 3 seconds.\n",
      "Running iteration 26 with dSave=quartGroup/MODEL-quartGroup-NUMBER-26\n",
      "Estimated time remaining is 21 minutes and 22 seconds.\n",
      "Running iteration 27 with dSave=quartGroup/MODEL-quartGroup-NUMBER-27\n",
      "Estimated time remaining is 21 minutes and 39 seconds.\n",
      "Running iteration 28 with dSave=quartGroup/MODEL-quartGroup-NUMBER-28\n",
      "Estimated time remaining is 21 minutes and 54 seconds.\n",
      "Running iteration 29 with dSave=quartGroup/MODEL-quartGroup-NUMBER-29\n",
      "Estimated time remaining is 22 minutes and 0 seconds.\n",
      "Running iteration 30 with dSave=quartGroup/MODEL-quartGroup-NUMBER-30\n",
      "Estimated time remaining is 22 minutes and 1 seconds.\n",
      "Running iteration 31 with dSave=quartGroup/MODEL-quartGroup-NUMBER-31\n",
      "Estimated time remaining is 21 minutes and 56 seconds.\n",
      "Running iteration 32 with dSave=quartGroup/MODEL-quartGroup-NUMBER-32\n",
      "Estimated time remaining is 21 minutes and 49 seconds.\n",
      "Running iteration 33 with dSave=quartGroup/MODEL-quartGroup-NUMBER-33\n",
      "Estimated time remaining is 21 minutes and 37 seconds.\n",
      "Running iteration 34 with dSave=quartGroup/MODEL-quartGroup-NUMBER-34\n",
      "Estimated time remaining is 21 minutes and 17 seconds.\n",
      "Running iteration 35 with dSave=quartGroup/MODEL-quartGroup-NUMBER-35\n",
      "Estimated time remaining is 20 minutes and 59 seconds.\n",
      "Running iteration 36 with dSave=quartGroup/MODEL-quartGroup-NUMBER-36\n",
      "Estimated time remaining is 20 minutes and 34 seconds.\n",
      "Running iteration 37 with dSave=quartGroup/MODEL-quartGroup-NUMBER-37\n",
      "Estimated time remaining is 20 minutes and 7 seconds.\n",
      "Running iteration 38 with dSave=quartGroup/MODEL-quartGroup-NUMBER-38\n",
      "Estimated time remaining is 19 minutes and 41 seconds.\n",
      "Running iteration 39 with dSave=quartGroup/MODEL-quartGroup-NUMBER-39\n",
      "Estimated time remaining is 19 minutes and 14 seconds.\n",
      "Running iteration 40 with dSave=quartGroup/MODEL-quartGroup-NUMBER-40\n",
      "Estimated time remaining is 18 minutes and 43 seconds.\n",
      "Running iteration 41 with dSave=quartGroup/MODEL-quartGroup-NUMBER-41\n",
      "Estimated time remaining is 18 minutes and 10 seconds.\n",
      "Running iteration 42 with dSave=quartGroup/MODEL-quartGroup-NUMBER-42\n",
      "Estimated time remaining is 17 minutes and 32 seconds.\n",
      "Running iteration 43 with dSave=quartGroup/MODEL-quartGroup-NUMBER-43\n",
      "Estimated time remaining is 16 minutes and 53 seconds.\n",
      "Running iteration 44 with dSave=quartGroup/MODEL-quartGroup-NUMBER-44\n",
      "Estimated time remaining is 16 minutes and 15 seconds.\n",
      "Running iteration 45 with dSave=quartGroup/MODEL-quartGroup-NUMBER-45\n",
      "Estimated time remaining is 15 minutes and 33 seconds.\n",
      "Running iteration 46 with dSave=quartGroup/MODEL-quartGroup-NUMBER-46\n",
      "Estimated time remaining is 14 minutes and 51 seconds.\n",
      "Running iteration 47 with dSave=quartGroup/MODEL-quartGroup-NUMBER-47\n",
      "Estimated time remaining is 14 minutes and 4 seconds.\n",
      "Running iteration 48 with dSave=quartGroup/MODEL-quartGroup-NUMBER-48\n",
      "Estimated time remaining is 13 minutes and 17 seconds.\n",
      "Running iteration 49 with dSave=quartGroup/MODEL-quartGroup-NUMBER-49\n",
      "Estimated time remaining is 12 minutes and 29 seconds.\n",
      "Running iteration 50 with dSave=quartGroup/MODEL-quartGroup-NUMBER-50\n",
      "Estimated time remaining is 11 minutes and 42 seconds.\n",
      "Running iteration 51 with dSave=quartGroup/MODEL-quartGroup-NUMBER-51\n",
      "Estimated time remaining is 10 minutes and 54 seconds.\n",
      "Running iteration 52 with dSave=quartGroup/MODEL-quartGroup-NUMBER-52\n",
      "Estimated time remaining is 10 minutes and 6 seconds.\n",
      "Running iteration 53 with dSave=quartGroup/MODEL-quartGroup-NUMBER-53\n",
      "Estimated time remaining is 9 minutes and 17 seconds.\n",
      "Running iteration 54 with dSave=quartGroup/MODEL-quartGroup-NUMBER-54\n",
      "Estimated time remaining is 8 minutes and 28 seconds.\n",
      "Running iteration 55 with dSave=quartGroup/MODEL-quartGroup-NUMBER-55\n",
      "Estimated time remaining is 7 minutes and 39 seconds.\n",
      "Running iteration 56 with dSave=quartGroup/MODEL-quartGroup-NUMBER-56\n",
      "Estimated time remaining is 6 minutes and 50 seconds.\n",
      "Running iteration 57 with dSave=quartGroup/MODEL-quartGroup-NUMBER-57\n",
      "Estimated time remaining is 6 minutes and 0 seconds.\n",
      "Running iteration 58 with dSave=quartGroup/MODEL-quartGroup-NUMBER-58\n",
      "Estimated time remaining is 5 minutes and 10 seconds.\n",
      "Running iteration 59 with dSave=quartGroup/MODEL-quartGroup-NUMBER-59\n",
      "Estimated time remaining is 4 minutes and 19 seconds.\n",
      "Running iteration 60 with dSave=quartGroup/MODEL-quartGroup-NUMBER-60\n",
      "Estimated time remaining is 3 minutes and 28 seconds.\n",
      "Running iteration 61 with dSave=quartGroup/MODEL-quartGroup-NUMBER-61\n",
      "Estimated time remaining is 2 minutes and 36 seconds.\n",
      "Running iteration 62 with dSave=quartGroup/MODEL-quartGroup-NUMBER-62\n",
      "Estimated time remaining is 1 minutes and 44 seconds.\n",
      "Running iteration 63 with dSave=quartGroup/MODEL-quartGroup-NUMBER-63\n",
      "Estimated time remaining is 0 minutes and 52 seconds.\n"
     ]
    }
   ],
   "source": [
    "# trainModels(63,0.25,'quartGroup')"
   ]
  },
  {
   "cell_type": "code",
   "execution_count": 3,
   "metadata": {},
   "outputs": [],
   "source": [
    "# testModels('quartGroup')"
   ]
  },
  {
   "cell_type": "markdown",
   "metadata": {},
   "source": [
    "### Training and testing the 50% group"
   ]
  },
  {
   "cell_type": "code",
   "execution_count": 8,
   "metadata": {},
   "outputs": [
    {
     "name": "stdout",
     "output_type": "stream",
     "text": [
      "Running iteration 1 with dSave=halfGroup/MODEL-halfGroup-NUMBER-1\n",
      "Estimated time remaining is 26 minutes and 17 seconds.\n",
      "Running iteration 2 with dSave=halfGroup/MODEL-halfGroup-NUMBER-2\n",
      "Estimated time remaining is 24 minutes and 18 seconds.\n",
      "Running iteration 3 with dSave=halfGroup/MODEL-halfGroup-NUMBER-3\n",
      "Estimated time remaining is 22 minutes and 26 seconds.\n",
      "Running iteration 4 with dSave=halfGroup/MODEL-halfGroup-NUMBER-4\n",
      "Estimated time remaining is 20 minutes and 39 seconds.\n",
      "Running iteration 5 with dSave=halfGroup/MODEL-halfGroup-NUMBER-5\n",
      "Estimated time remaining is 18 minutes and 53 seconds.\n",
      "Running iteration 6 with dSave=halfGroup/MODEL-halfGroup-NUMBER-6\n",
      "Estimated time remaining is 17 minutes and 9 seconds.\n",
      "Running iteration 7 with dSave=halfGroup/MODEL-halfGroup-NUMBER-7\n",
      "Estimated time remaining is 15 minutes and 25 seconds.\n",
      "Running iteration 8 with dSave=halfGroup/MODEL-halfGroup-NUMBER-8\n",
      "Estimated time remaining is 13 minutes and 42 seconds.\n",
      "Running iteration 9 with dSave=halfGroup/MODEL-halfGroup-NUMBER-9\n",
      "Estimated time remaining is 11 minutes and 59 seconds.\n",
      "Running iteration 10 with dSave=halfGroup/MODEL-halfGroup-NUMBER-10\n",
      "Estimated time remaining is 10 minutes and 16 seconds.\n",
      "Running iteration 11 with dSave=halfGroup/MODEL-halfGroup-NUMBER-11\n",
      "Estimated time remaining is 8 minutes and 31 seconds.\n",
      "Running iteration 12 with dSave=halfGroup/MODEL-halfGroup-NUMBER-12\n",
      "Estimated time remaining is 6 minutes and 47 seconds.\n",
      "Running iteration 13 with dSave=halfGroup/MODEL-halfGroup-NUMBER-13\n",
      "Estimated time remaining is 5 minutes and 4 seconds.\n",
      "Running iteration 14 with dSave=halfGroup/MODEL-halfGroup-NUMBER-14\n",
      "Estimated time remaining is 3 minutes and 22 seconds.\n",
      "Running iteration 15 with dSave=halfGroup/MODEL-halfGroup-NUMBER-15\n",
      "Estimated time remaining is 1 minutes and 41 seconds.\n"
     ]
    }
   ],
   "source": [
    "# trainModels(15,0.5,'halfGroup')"
   ]
  },
  {
   "cell_type": "code",
   "execution_count": 4,
   "metadata": {},
   "outputs": [],
   "source": [
    "# testModels('halfGroup')"
   ]
  },
  {
   "cell_type": "markdown",
   "metadata": {},
   "source": [
    "### Training and the 100% group"
   ]
  },
  {
   "cell_type": "code",
   "execution_count": 5,
   "metadata": {},
   "outputs": [
    {
     "name": "stdout",
     "output_type": "stream",
     "text": [
      "Running iteration 11 with dSave=allGroup/MODEL-allGroup-NUMBER-11\n",
      "Estimated time remaining is 36 minutes and 44 seconds.\n",
      "Running iteration 12 with dSave=allGroup/MODEL-allGroup-NUMBER-12\n",
      "Estimated time remaining is 32 minutes and 44 seconds.\n",
      "Running iteration 13 with dSave=allGroup/MODEL-allGroup-NUMBER-13\n",
      "Estimated time remaining is 29 minutes and 4 seconds.\n",
      "Running iteration 14 with dSave=allGroup/MODEL-allGroup-NUMBER-14\n",
      "Estimated time remaining is 25 minutes and 34 seconds.\n",
      "Running iteration 15 with dSave=allGroup/MODEL-allGroup-NUMBER-15\n",
      "Estimated time remaining is 21 minutes and 55 seconds.\n",
      "Running iteration 16 with dSave=allGroup/MODEL-allGroup-NUMBER-16\n",
      "Estimated time remaining is 18 minutes and 34 seconds.\n",
      "Running iteration 17 with dSave=allGroup/MODEL-allGroup-NUMBER-17\n",
      "Estimated time remaining is 15 minutes and 18 seconds.\n",
      "Running iteration 18 with dSave=allGroup/MODEL-allGroup-NUMBER-18\n",
      "Estimated time remaining is 12 minutes and 8 seconds.\n",
      "Running iteration 19 with dSave=allGroup/MODEL-allGroup-NUMBER-19\n",
      "Estimated time remaining is 9 minutes and 3 seconds.\n",
      "Running iteration 20 with dSave=allGroup/MODEL-allGroup-NUMBER-20\n",
      "Estimated time remaining is 6 minutes and 0 seconds.\n",
      "Running iteration 21 with dSave=allGroup/MODEL-allGroup-NUMBER-21\n",
      "Estimated time remaining is 2 minutes and 59 seconds.\n"
     ]
    }
   ],
   "source": [
    "# trainModels(21,1,'allGroup')"
   ]
  },
  {
   "cell_type": "code",
   "execution_count": 5,
   "metadata": {},
   "outputs": [],
   "source": [
    "# testModels('allGroup')"
   ]
  }
 ],
 "metadata": {
  "kernelspec": {
   "display_name": "aiuni",
   "language": "python",
   "name": "python3"
  },
  "language_info": {
   "codemirror_mode": {
    "name": "ipython",
    "version": 3
   },
   "file_extension": ".py",
   "mimetype": "text/x-python",
   "name": "python",
   "nbconvert_exporter": "python",
   "pygments_lexer": "ipython3",
   "version": "3.12.8"
  }
 },
 "nbformat": 4,
 "nbformat_minor": 2
}
