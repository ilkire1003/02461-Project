{
 "cells": [
  {
   "cell_type": "code",
   "execution_count": 1,
   "metadata": {},
   "outputs": [],
   "source": [
    "import os\n",
    "import shutil\n",
    "import numpy as np\n",
    "from glob import glob\n"
   ]
  },
  {
   "cell_type": "markdown",
   "metadata": {},
   "source": [
    "### Function for stratification of the data\n"
   ]
  },
  {
   "cell_type": "code",
   "execution_count": 66,
   "metadata": {},
   "outputs": [
    {
     "name": "stdout",
     "output_type": "stream",
     "text": [
      "*****\n",
      "1\n",
      "20\n",
      "*****\n",
      "11\n",
      "20\n",
      "*****\n",
      "21\n",
      "20\n",
      "*****\n",
      "31\n",
      "20\n",
      "*****\n",
      "41\n",
      "20\n",
      "*****\n",
      "51\n",
      "20\n",
      "*****\n",
      "61\n",
      "20\n",
      "*****\n",
      "71\n",
      "20\n",
      "*****\n",
      "81\n",
      "20\n",
      "*****\n",
      "91\n",
      "20\n"
     ]
    }
   ],
   "source": [
    "data_path = \"C:/Users/Ali/Desktop/UNI/AI/3UGERS/IKIT-3-ugers/face_age\"\n",
    "class_labels = np.arange(1,101)\n",
    "bin_starts=np.arange(1,101,10)\n",
    "\n",
    "\n",
    "class_path = [f\"{age:03}\" for age in class_labels]\n",
    "\n",
    "s=0\n",
    "labels=[]\n",
    "imageFiles=[]\n",
    "\n",
    "# used to shuffle labels and images array in unison. Taken from stack overflow @https://stackoverflow.com/questions/4601373/better-way-to-shuffle-two-numpy-arrays-in-unison#:~:text=To%20shuffle%20both%20arrays%20simultaneously,create%20c%20%2C%20a2%20and%20b2%20.\n",
    "\n",
    "def shuffle_arrays(arrays, set_seed=-1):\n",
    "    assert all(len(arr) == len(arrays[0]) for arr in arrays)\n",
    "    seed = np.random.randint(0, 2**(32 - 1) - 1) if set_seed < 0 else set_seed\n",
    "\n",
    "    for arr in arrays:\n",
    "        rstate = np.random.RandomState(seed)\n",
    "        rstate.shuffle(arr)\n",
    "\n",
    "for i in range(1,101,10):\n",
    "    filenames=[]\n",
    "\n",
    "    for o in range(i,i+10):\n",
    "        path=os.path.join(data_path, f\"t{o:03}\", '*.[PJp][NPn][Gg]')\n",
    "\n",
    "        imagePaths=glob(path)\n",
    "        filenames+=imagePaths\n",
    "\n",
    "    \n"
   ]
  },
  {
   "cell_type": "markdown",
   "metadata": {},
   "source": [
    "### move the selected images to seperate folders"
   ]
  },
  {
   "cell_type": "code",
   "execution_count": 32,
   "metadata": {},
   "outputs": [],
   "source": [
    "for i in range(1,111):\n",
    "\n",
    "    newpath = f'C:/Users/Ali/Desktop/UNI/AI/3UGERS/IKIT-3-ugers/face_age/t{i:03}'\n",
    "    if not os.path.exists(newpath):\n",
    "        os.makedirs(newpath)\n",
    "\n",
    "\n",
    "class_labels = np.arange(1,111)\n",
    "class_path = [f\"{age:03}\" for age in class_labels]\n",
    "data_path = \"/Users/Ali/Desktop/UNI/AI/3UGERS/IKIT-3-ugers/face_age\"\n",
    "for i in range (3260):\n",
    "    # Get all JPEG files in directory\n",
    "    imagePath=imageFiles[i]\n",
    "    imageLabel=labels[i]\n",
    "\n",
    "\n",
    "    shutil.move(imagePath,f'C:/Users/Ali/Desktop/UNI/AI/3UGERS/IKIT-3-ugers/face_age/t{imageLabel:03}')\n"
   ]
  }
 ],
 "metadata": {
  "kernelspec": {
   "display_name": "IntelligentSystems",
   "language": "python",
   "name": "python3"
  },
  "language_info": {
   "codemirror_mode": {
    "name": "ipython",
    "version": 3
   },
   "file_extension": ".py",
   "mimetype": "text/x-python",
   "name": "python",
   "nbconvert_exporter": "python",
   "pygments_lexer": "ipython3",
   "version": "3.12.5"
  }
 },
 "nbformat": 4,
 "nbformat_minor": 2
}
